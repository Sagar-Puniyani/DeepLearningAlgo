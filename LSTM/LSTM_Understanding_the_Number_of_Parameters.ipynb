{
  "nbformat": 4,
  "nbformat_minor": 0,
  "metadata": {
    "colab": {
      "provenance": [],
      "collapsed_sections": [
        "_G6rRuf7L58s"
      ],
      "include_colab_link": true
    },
    "kernelspec": {
      "name": "python3",
      "display_name": "Python 3"
    },
    "accelerator": "GPU"
  },
  "cells": [
    {
      "cell_type": "markdown",
      "metadata": {
        "id": "view-in-github",
        "colab_type": "text"
      },
      "source": [
        "<a href=\"https://colab.research.google.com/github/Sagar-Puniyani/DeepLearningAlgo/blob/main/LSTM/LSTM_Understanding_the_Number_of_Parameters.ipynb\" target=\"_parent\"><img src=\"https://colab.research.google.com/assets/colab-badge.svg\" alt=\"Open In Colab\"/></a>"
      ]
    },
    {
      "cell_type": "markdown",
      "metadata": {
        "id": "pNFzm0SCLzX5"
      },
      "source": [
        "#LSTM: Understanding the Number of Parameters\n",
        "In this tutorial, we will focus on internal structure of Keras LSTM layer in order to understand how many **learnable parameters** an LTSM layer has.\n",
        "\n",
        "Why do we **need** to care of calculating number of parameters in LSTM layer ***since*** we can easily get this number in the model summary report?\n",
        "\n",
        "Well there are several reasons:\n",
        "* First of all, to calculate the number of learnable parameters correctly, we need to **understand how LSTM is structured** and how **LSTM operates** ***in depth***. Thus, we will delve into LSTM gates and gate functions. We will gain precious insight about how LSTM handles ***time dependent*** or ***sequence*** input data.\n",
        "\n",
        "* Secondly, in ANN models, number of parameter is a really important metric for understanding the **model capacity** and **complexity**. We need to keep an eye on the number of parameters of each layer in the model to handle ***overfitting*** or ***underfitting*** situations. One way to prevent these situations is to **adjust the number of parameters** of each layer. We need to know how number of parameters actullay affects the performance of each layer.\n",
        "\n"
      ]
    },
    {
      "cell_type": "markdown",
      "metadata": {
        "id": "_G6rRuf7L58s"
      },
      "source": [
        "---\n",
        "## Prepare"
      ]
    },
    {
      "cell_type": "code",
      "metadata": {
        "id": "ejlCnWNlFzdm",
        "outputId": "a58c1316-e473-46f0-b926-81139381eedb",
        "colab": {
          "base_uri": "https://localhost:8080/"
        }
      },
      "source": [
        "#@title Check GPU\n",
        "%tensorflow_version 2.x\n",
        "import tensorflow as tf\n",
        "device_name = tf.test.gpu_device_name()\n",
        "if device_name != '/device:GPU:0':\n",
        "  print('GPU device NOT found')\n",
        "else:\n",
        "  print('Found GPU at: {}'.format(device_name))"
      ],
      "execution_count": 1,
      "outputs": [
        {
          "output_type": "stream",
          "name": "stdout",
          "text": [
            "Colab only includes TensorFlow 2.x; %tensorflow_version has no effect.\n",
            "Found GPU at: /device:GPU:0\n"
          ]
        }
      ]
    },
    {
      "cell_type": "code",
      "metadata": {
        "id": "VbUbGOuqFzUY",
        "outputId": "23eb2b00-a038-494b-db63-7581388be8dd",
        "colab": {
          "base_uri": "https://localhost:8080/"
        }
      },
      "source": [
        "#@title Version Info\n",
        "print('tf version: ', tf.__version__)\n"
      ],
      "execution_count": 4,
      "outputs": [
        {
          "output_type": "stream",
          "name": "stdout",
          "text": [
            "tf version:  2.15.0\n"
          ]
        }
      ]
    },
    {
      "cell_type": "code",
      "metadata": {
        "id": "J9ZhrUeTDsx-"
      },
      "source": [
        "#@title Import Libraries\n",
        "from random import randint\n",
        "from numpy import array\n",
        "from numpy import argmax\n",
        "import keras.backend as K\n",
        "from tensorflow.keras import models\n",
        "from numpy import array_equal\n",
        "import numpy as np\n",
        "from tensorflow.keras.models import Sequential, Model\n",
        "from tensorflow.keras.layers import LSTM, Bidirectional\n",
        "from tensorflow.keras.layers import Dense, Flatten\n",
        "from tensorflow.keras import Input\n",
        "from tensorflow.keras.layers import TimeDistributed\n",
        "from tensorflow.keras.layers import RepeatVector"
      ],
      "execution_count": 5,
      "outputs": []
    },
    {
      "cell_type": "markdown",
      "metadata": {
        "id": "-rx5fLrUvBwt"
      },
      "source": [
        "## REMINDER:\n",
        "\n",
        "* LSTM ***expects*** **input data** to be a **3D** tensor such that:\n",
        "\n",
        "      [batch_size, timesteps, feature]\n",
        "\n",
        "* **batch_size** how many samples in each batch during training and testing\n",
        "\n",
        "* **timesteps** means how many values exist in a sequence. For example in [4, 7, 8, 4] there are 4 timesteps\n",
        "\n",
        "* **features**: how many dimensions are used to represent a data in one time step. For example, if each value in the sequence is one hot encoded with 9 zero and 1 one then feature is 10\n",
        "* Example:\n",
        "    \n",
        "    In raw format:\n",
        "\n",
        "    X=[4, 7, 8, 4]\n",
        "\n",
        "    In one hot encoded format with 10 dimensions (feature = 10):\n",
        "\n",
        "    X=[[0 0 0 0 1 0 0 0 0 0]\n",
        "\n",
        "     [0 0 0 0 0 0 0 1 0 0]\n",
        "    \n",
        "    [0 0 0 0 0 0 0 0 1 0]\n",
        "    \n",
        "    [0 0 0 0 1 0 0 0 0 0]]"
      ]
    },
    {
      "cell_type": "code",
      "metadata": {
        "id": "kAH_YT1Zhgyy",
        "outputId": "9940410f-a808-4627-8beb-e4a39a41c277",
        "colab": {
          "base_uri": "https://localhost:8080/"
        }
      },
      "source": [
        "# define model\n",
        "timesteps=40           # dimensionality of the input sequence\n",
        "features=3            # dimensionality of each input representation in the sequence\n",
        "LSTMoutputDimension = 2 # dimensionality of the LSTM outputs (Hidden & Cell states)\n",
        "\n",
        "input = Input(shape=(timesteps, features))\n",
        "output= LSTM(LSTMoutputDimension)(input)\n",
        "model_LSTM = Model(inputs=input, outputs=output)\n",
        "\n",
        "model_LSTM.summary()\n"
      ],
      "execution_count": 6,
      "outputs": [
        {
          "output_type": "stream",
          "name": "stdout",
          "text": [
            "Model: \"model\"\n",
            "_________________________________________________________________\n",
            " Layer (type)                Output Shape              Param #   \n",
            "=================================================================\n",
            " input_1 (InputLayer)        [(None, 40, 3)]           0         \n",
            "                                                                 \n",
            " lstm (LSTM)                 (None, 2)                 48        \n",
            "                                                                 \n",
            "=================================================================\n",
            "Total params: 48 (192.00 Byte)\n",
            "Trainable params: 48 (192.00 Byte)\n",
            "Non-trainable params: 0 (0.00 Byte)\n",
            "_________________________________________________________________\n"
          ]
        }
      ]
    },
    {
      "cell_type": "markdown",
      "metadata": {
        "id": "onTvSKNGfvzG"
      },
      "source": [
        "## FINDING NUMBER OF PARAMETERS IN A NEURAL NETWORK WITH A SINGLE DENSE LAYER  "
      ]
    },
    {
      "cell_type": "markdown",
      "metadata": {
        "id": "7oDiDZ3Jf3A8"
      },
      "source": [
        "* Before explaining how to calculate number of LSTM parameters,  I would like to remind you how to calculate number of a dense layer's parameters.\n",
        "*As we will see soon, LSTM has *4 dense layers* in its internal structure. So this discussion will help us a lot soon.\n",
        "*Assume that\n",
        "\n",
        " **i**= input size\n",
        "\n",
        "  **h**= size of hidden layer (number of neurons in the hidden layer)\n",
        "\n",
        "  **o**= output size (number of neurons in the output layer)\n",
        "\n",
        "* For a **single** hidden layer,\n",
        "\n",
        "  **number of parameters in the model** = connections between layers + biases in every layer (hiden + output layers!)\n",
        "  \n",
        "  = (i×h + h×o) + (h+o)\n",
        "\n",
        "* Check the below Figure [taken from here](https://towardsdatascience.com/counting-no-of-parameters-in-deep-learning-models-by-hand-8f1716241889)"
      ]
    },
    {
      "cell_type": "markdown",
      "metadata": {
        "id": "aWnDybXzhGDO"
      },
      "source": [
        "![link text](https://miro.medium.com/max/501/1*sTV2UIv76WQiHt4JfCqk9g.png)"
      ]
    },
    {
      "cell_type": "markdown",
      "metadata": {
        "id": "BfQeJ0TLhXSg"
      },
      "source": [
        "We can find the number of parameters by counting the number of connections between layers and by adding bias.\n",
        "\n",
        "* **connections** (weigths) between layers:\n",
        "  *  between **input** and **hidden** layer is\n",
        "\n",
        "   i * h = 3 * 5 = 15\n",
        "  * between **hidden** and **output** layer is\n",
        "\n",
        "   h * o = 5 * 2 = 10\n",
        "* **biases** in every layer\n",
        "  * biases in **hidden** layer\n",
        "   \n",
        "   h = 5\n",
        "  * biases in **output** layer\n",
        "\n",
        "   o = 2\n",
        "* **Total**:\n",
        "\n",
        "  15 + 10 + 5 + 2 = 32 parameters (weights + biases)   \n",
        "\n",
        "\n",
        "Let's create a simple model and verify the calculation:\n"
      ]
    },
    {
      "cell_type": "code",
      "metadata": {
        "id": "eZUy9dtVjOC5",
        "outputId": "5ca74f0c-d5d6-4518-c98a-304ea4d0b329",
        "colab": {
          "base_uri": "https://localhost:8080/"
        }
      },
      "source": [
        "input = Input((None, 3))\n",
        "dense = Dense(5)(input)\n",
        "output = Dense(2)(dense)\n",
        "model_dense = Model(input, output)\n",
        "model_dense.summary()"
      ],
      "execution_count": 7,
      "outputs": [
        {
          "output_type": "stream",
          "name": "stdout",
          "text": [
            "Model: \"model_1\"\n",
            "_________________________________________________________________\n",
            " Layer (type)                Output Shape              Param #   \n",
            "=================================================================\n",
            " input_2 (InputLayer)        [(None, None, 3)]         0         \n",
            "                                                                 \n",
            " dense (Dense)               (None, None, 5)           20        \n",
            "                                                                 \n",
            " dense_1 (Dense)             (None, None, 2)           12        \n",
            "                                                                 \n",
            "=================================================================\n",
            "Total params: 32 (128.00 Byte)\n",
            "Trainable params: 32 (128.00 Byte)\n",
            "Non-trainable params: 0 (0.00 Byte)\n",
            "_________________________________________________________________\n"
          ]
        }
      ]
    },
    {
      "cell_type": "markdown",
      "metadata": {
        "id": "YrM7jnZvj2nr"
      },
      "source": [
        "Let's **re-formulate** the calculations:\n",
        "\n",
        "= (i × h + h × o) + (h + o)\n",
        "\n",
        "= **(i + o) × h + (h + o)**\n",
        "\n",
        "We will use above formula below :)"
      ]
    },
    {
      "cell_type": "markdown",
      "metadata": {
        "id": "Wd3ViXfBQr9F"
      },
      "source": [
        "## KERAS LSTM CELL STRUCTURE\n"
      ]
    },
    {
      "cell_type": "markdown",
      "metadata": {
        "id": "qggzu_gHQE5b"
      },
      "source": [
        "<img src=\"https://github.com/kmkarakaya/ML_tutorials/blob/master/images/LSTM_internal2.png?raw=true\" width=\"700\">\n",
        "\n",
        "[Image from here](https://towardsdatascience.com/animated-rnn-lstm-and-gru-ef124d06cf45)\n"
      ]
    },
    {
      "cell_type": "markdown",
      "metadata": {
        "id": "qGtPXbbKlCeO"
      },
      "source": [
        "# FIRST EXPLANATION USING LSTM INTERNAL STRUCTURE\n",
        "Review the above Figure to capture the internal structure of LSTM cell\n",
        "\n",
        "* There are 3 inputs to the LSTM cell:\n",
        "  * $h_{t-1}$ previous timestep (t-1) Hidden State value\n",
        "  * $c_{t-1}$ previous timestep (t-1) Cell State value\n",
        "  * $x_{t}$   current timestep (t) Input value\n",
        "\n",
        "* There are 4 dense layers:\n",
        "  * Forget Gate\n",
        "  * Input Gates = Input + Candidate\n",
        "  * Output Gate\n",
        "\n",
        "* The input output tensor sizes (dimensions) are symbolized with circles. In the figure,\n",
        "  * **Cell and Hidden states are vectors which have a dimension = 2.** This number is defined by the programmer by setting LSTM parameter units (LSTMoutputDimension) to 2\n",
        "  * **Input is a vector which has a dimension = 3.** This number is also defined by the programmer by deciding how many dimension would be to represent an input (e.g. dimension of one-hot encoding, word embedding, etc.)  \n",
        "\n",
        "* Note that, By definition:\n",
        "  * Hidden and Cell states vector dimensions must be the same\n",
        "  * Hidden and Cell states vector dimensions at time **t-1** and **t** must be the same\n",
        "  * Each input in the sequence must have the same vector dimensions\n",
        "\n",
        "\n",
        "\n",
        "\n"
      ]
    },
    {
      "cell_type": "markdown",
      "metadata": {
        "id": "luaJzW_SWI5u"
      },
      "source": [
        "## Let's focus on Forget Gate"
      ]
    },
    {
      "cell_type": "markdown",
      "metadata": {
        "id": "A1rYLoImnvH7"
      },
      "source": [
        "![link text](https://github.com/kmkarakaya/ML_tutorials/blob/master/images/LSTM_forgetGate.png?raw=true)\n",
        "\n",
        "* As seen in above figure,\n",
        "  * there are Hidden state values (**2  $h_{t-1}$** red circles) and\n",
        "  * Input values ( **3 $x_{t}$** green circles)\n",
        "* Total 5 numbers ( **2  $h_{t-1}$** + **3 $x_{t}$** ) are inputted to   **a dense layer**\n",
        "* Output layer has **2  values** (which **must be equal** to the dimension of  $h_{t-1}$ Hidden state vector in the LSTM Cell)\n",
        "\n",
        "* We can calculate the number of parameters in this dense layer as we did before:\n",
        "\n",
        "  = ($h_{t-1}$ + $x_{t}$) × $h_{t-1}$ + $h_{t-1}$\n",
        "\n",
        "  = (2 + 3) × 2 + 2\n",
        "\n",
        "  = 12\n",
        "\n",
        "* **Thus Forget Gate has 12 parameters (weights + biases)**\n",
        "\n",
        "\n",
        "\n",
        "\n"
      ]
    },
    {
      "cell_type": "markdown",
      "metadata": {
        "id": "V78jXa5C5tu1"
      },
      "source": [
        "<img src=\"https://github.com/kmkarakaya/ML_tutorials/blob/master/images/LSTM_internal2.png?raw=true\" width=\"500\">\n",
        "\n",
        "[Image from here](https://towardsdatascience.com/animated-rnn-lstm-and-gru-ef124d06cf45)\n"
      ]
    },
    {
      "cell_type": "markdown",
      "metadata": {
        "id": "UrWJTxdV5iem"
      },
      "source": [
        "* Since there are **4 gates** in the LSTM unit which have  exactly the **same dense layer** architecture,  there will be\n",
        "\n",
        "   = 4 × 12\n",
        "\n",
        "   **= 48 parameters**\n",
        "\n",
        "* We can formulate the parameter numbers in a LSTM layer given that $x$ is the input dimension, $h$ is the number of LSTM units / cells / latent space / output dimension:\n",
        "\n",
        "#   **LSTM parameter number = 4 × (($x$ + $h$) × $h$ +$h$)**\n"
      ]
    },
    {
      "cell_type": "markdown",
      "metadata": {
        "id": "NZVRMBBIhI4S"
      },
      "source": [
        "## SECOND EXPLANATION USING LSTM FUNCTION DEFINITIONS\n",
        "<img src=\"https://github.com/kmkarakaya/ML_tutorials/blob/master/images/LSTM_internal2.png?raw=true\" width=\"500\">\n",
        "\n",
        "\n",
        "* The outputs of the 4 gates in the above figure can be expressed as a function as below:\n",
        "\n",
        "<img src=\"https://github.com/kmkarakaya/ML_tutorials/blob/master/images/LSTM_functions.png?raw=true\" width=\"300\">\n",
        "\n",
        "\n"
      ]
    },
    {
      "cell_type": "markdown",
      "metadata": {
        "id": "av2lK7mk-68E"
      },
      "source": [
        "![link text](https://github.com/kmkarakaya/ML_tutorials/blob/master/images/LSTM_functions2.png?raw=true)"
      ]
    },
    {
      "cell_type": "markdown",
      "metadata": {
        "id": "sAp0x1JKiR1i"
      },
      "source": [
        "\n",
        "* As seen, among these functions, there are 4 functions which have\n",
        "  * 2 weight matrices: $W$ and $U$ for $h_{t-1}$ and $x_{t}$ values\n",
        "  * 1 bias vector $b$\n",
        "\n",
        "* We can work on **forget gate's function** $f_{t}$ to calculate parameter numbers:\n",
        "\n",
        "  ![link text](https://github.com/kmkarakaya/ML_tutorials/blob/master/images/LSTM_forgetGate.png?raw=true)\n",
        "\n",
        " ![link text](https://github.com/kmkarakaya/ML_tutorials/blob/master/images/LSTM_functions3.png?raw=true)\n",
        "\n",
        " Notice that we can guess the size (shape) of W,U and b given:\n",
        " * Input size ($h_{t-1}$ and $x_{t}$ )\n",
        " * Output size ($h_{t-1}$)\n",
        "\n",
        " Since output must equal to Hidden State (hx1) size:\n",
        "\n",
        "  * for W param =  ($h$ × $x$)\n",
        "  * for U param =  ($h$ × $h$)\n",
        "  * for Biases  param =   $h$\n",
        "\n",
        " * total params = W param + U param + Biases param\n",
        "  \n",
        "    =  ($h$ × $x$) +  ($h$ × $h$) +  $h$\n",
        "\n",
        "    =  ( ($h$ × $x$) +  ($h$ × $h$) +   $h$ )\n",
        "\n",
        "    =  ( ($x$ + $h$) ×  $h$  +   $h$ )\n",
        "\n",
        "* there are 4 functions which are exactly defined in the same way, in the LSTM layer, there will be\n",
        "\n",
        " ##   **LSTM parameter number = 4 × (($x$ + $h$) × $h$ +$h$)**\n",
        "\n",
        "\n",
        "\n",
        "\n",
        "\n"
      ]
    },
    {
      "cell_type": "markdown",
      "metadata": {
        "id": "woDJQ1_1Ye-d"
      },
      "source": [
        "# Example"
      ]
    },
    {
      "cell_type": "code",
      "metadata": {
        "id": "BdICThHROe7w",
        "outputId": "66f2cf01-fb1c-461e-b914-f9a259fe7f2c",
        "colab": {
          "base_uri": "https://localhost:8080/"
        }
      },
      "source": [
        "# define model\n",
        "timesteps=40          # dimensionality of the input sequence\n",
        "features=3            # dimensionality of each input representation in the sequence\n",
        "LSTMoutputDimension = 2 # dimensionality of the LSTM outputs (Hidden & Cell states)\n",
        "\n",
        "\n",
        "input = Input(shape=(timesteps, features))\n",
        "output= LSTM(LSTMoutputDimension)(input)\n",
        "model_LSTM = Model(inputs=input, outputs=output)\n",
        "\n",
        "model_LSTM.summary()"
      ],
      "execution_count": 8,
      "outputs": [
        {
          "output_type": "stream",
          "name": "stdout",
          "text": [
            "Model: \"model_2\"\n",
            "_________________________________________________________________\n",
            " Layer (type)                Output Shape              Param #   \n",
            "=================================================================\n",
            " input_3 (InputLayer)        [(None, 40, 3)]           0         \n",
            "                                                                 \n",
            " lstm_1 (LSTM)               (None, 2)                 48        \n",
            "                                                                 \n",
            "=================================================================\n",
            "Total params: 48 (192.00 Byte)\n",
            "Trainable params: 48 (192.00 Byte)\n",
            "Non-trainable params: 0 (0.00 Byte)\n",
            "_________________________________________________________________\n"
          ]
        }
      ]
    },
    {
      "cell_type": "markdown",
      "metadata": {
        "id": "RRe2HAFm776C"
      },
      "source": [
        "In the above model,\n",
        "* LSTM layer has \"dimensionality of the output space\" (unit) parameter value 2 which means that Hidden and Cell states are vectors with dimension 2\n",
        "* input for each time step is represented by a vector with dimension 3 (feature)\n",
        "\n",
        "Remember:\n",
        "\n",
        "**LSTM parameter number = 4 × (($x$ + $h$) × $h$ + $h$)**\n",
        "\n",
        "**LSTM parameter number = 4 × ((3 + 2) × 2 + 2)**\n",
        "\n",
        "**LSTM parameter number = 4 × (12)**\n",
        "\n",
        "**LSTM parameter number = 48**\n",
        "\n",
        "\n",
        "Summary indicates the total number parameters of the model (actually LSTM layer) is **48** as we computed above!\n",
        "\n",
        "Now, let's get sizes of each weight matrix and bias vector from the model:\n",
        "\n"
      ]
    },
    {
      "cell_type": "code",
      "metadata": {
        "id": "Hf8Wk9vg7nvq",
        "outputId": "9060fc87-6c2b-4c11-9676-54b837b6853b",
        "colab": {
          "base_uri": "https://localhost:8080/"
        }
      },
      "source": [
        "W = model_LSTM.layers[1].get_weights()[0]\n",
        "U = model_LSTM.layers[1].get_weights()[1]\n",
        "b = model_LSTM.layers[1].get_weights()[2]\n",
        "\n",
        "print(\"W\", W.size, ' calculated as 4*features*LSTMoutputDimension ',\n",
        "      4*features*LSTMoutputDimension)\n",
        "print(\"U\", U.size, ' calculated as 4*LSTMoutputDimension*LSTMoutputDimension ',\n",
        "      4*LSTMoutputDimension*LSTMoutputDimension)\n",
        "print(\"b\", b.size , ' calculated as 4*LSTMoutputDimension ',\n",
        "      4*LSTMoutputDimension)\n",
        "print(\"Total Parameter Number: W+ U + b \" ,\n",
        "      W.size+ U.size + b.size)\n",
        "print(\"Total Parameter Number: 4 × ((x + h) × h +h) \" ,\n",
        "      4* ((features+LSTMoutputDimension)*LSTMoutputDimension+LSTMoutputDimension))\n",
        "\n"
      ],
      "execution_count": 10,
      "outputs": [
        {
          "output_type": "stream",
          "name": "stdout",
          "text": [
            "W 24  calculated as 4*features*LSTMoutputDimension  24\n",
            "U 16  calculated as 4*LSTMoutputDimension*LSTMoutputDimension  16\n",
            "b 8  calculated as 4*LSTMoutputDimension  8\n",
            "Total Parameter Number: W+ U + b  48\n",
            "Total Parameter Number: 4 × ((x + h) × h +h)  48\n"
          ]
        }
      ]
    },
    {
      "cell_type": "markdown",
      "metadata": {
        "id": "h-x4lZPR9fwr"
      },
      "source": [
        "NOTICE:\n",
        "* The above W, U and B are compacted for all gates.\n",
        "* If you want, you can access the values of **each gate values** as well:"
      ]
    },
    {
      "cell_type": "code",
      "metadata": {
        "id": "lxfbbmSm7rsj"
      },
      "source": [
        "units=LSTMoutputDimension\n",
        "W_i = W[:, :units]\n",
        "W_f = W[:, units: units * 2]\n",
        "W_c = W[:, units * 2: units * 3]\n",
        "W_o = W[:, units * 3:]\n",
        "\n",
        "U_i = U[:, :units]\n",
        "U_f = U[:, units: units * 2]\n",
        "U_c = U[:, units * 2: units * 3]\n",
        "U_o = U[:, units * 3:]\n",
        "\n",
        "b_i = b[:units]\n",
        "b_f = b[units: units * 2]\n",
        "b_c = b[units * 2: units * 3]\n",
        "b_o = b[units * 3:]"
      ],
      "execution_count": 11,
      "outputs": []
    },
    {
      "cell_type": "code",
      "source": [
        "W_f.shape"
      ],
      "metadata": {
        "id": "FibPCZuMPS0n",
        "outputId": "306b0dda-abcb-49ef-c466-cc49eb9c6f78",
        "colab": {
          "base_uri": "https://localhost:8080/"
        }
      },
      "execution_count": 18,
      "outputs": [
        {
          "output_type": "execute_result",
          "data": {
            "text/plain": [
              "(3, 2)"
            ]
          },
          "metadata": {},
          "execution_count": 18
        }
      ]
    },
    {
      "cell_type": "code",
      "source": [
        "U_f.shape"
      ],
      "metadata": {
        "id": "LI-FnEmOPrbK",
        "outputId": "d0251c45-108a-4019-bc82-1acce3283328",
        "colab": {
          "base_uri": "https://localhost:8080/"
        }
      },
      "execution_count": 19,
      "outputs": [
        {
          "output_type": "execute_result",
          "data": {
            "text/plain": [
              "(2, 2)"
            ]
          },
          "metadata": {},
          "execution_count": 19
        }
      ]
    },
    {
      "cell_type": "code",
      "source": [
        "b_f.shape"
      ],
      "metadata": {
        "id": "mrLskhwJQlVI",
        "outputId": "b6c33737-edbd-4817-a723-94839dfdfcc2",
        "colab": {
          "base_uri": "https://localhost:8080/"
        }
      },
      "execution_count": 20,
      "outputs": [
        {
          "output_type": "execute_result",
          "data": {
            "text/plain": [
              "(2,)"
            ]
          },
          "metadata": {},
          "execution_count": 20
        }
      ]
    },
    {
      "cell_type": "code",
      "source": [
        "W.shape"
      ],
      "metadata": {
        "id": "dl1zdm00QqTe",
        "outputId": "0211424b-9a9b-49f6-c246-fb52a25d4276",
        "colab": {
          "base_uri": "https://localhost:8080/"
        }
      },
      "execution_count": 22,
      "outputs": [
        {
          "output_type": "execute_result",
          "data": {
            "text/plain": [
              "(3, 8)"
            ]
          },
          "metadata": {},
          "execution_count": 22
        }
      ]
    },
    {
      "cell_type": "markdown",
      "metadata": {
        "id": "kOUrOGuUMGnw"
      },
      "source": [
        "**IMPORTANT**:\n",
        "* **timesteps** (or ***input_length***) of the input sequence does **NOT** affect the number of parameters!\n",
        "  \n",
        "  **WHY?**\n",
        "  \n",
        "  Because,  same \"W\", \"U\", and \"b\" are **shared** ***throughout the time-steps***\n",
        "\n",
        "  That is; instead of using new weights and biases at each time step, LSTM unit **uses the same** \"W\", \"U\", and \"b\" values for ***all time-steps***!\n",
        "\n",
        "  This **simplifies** the calculation of backpropagation and **reduce** the number of parameters (memory requirement)\n",
        "\n",
        "\n",
        "\n",
        "\n",
        "\n"
      ]
    },
    {
      "cell_type": "markdown",
      "metadata": {
        "id": "e9NyvLu-X6zb"
      },
      "source": [
        "## CONCLUSION\n",
        "* In this tutorial, we investigate the internal structure of Keras LSTM layer to calculate the number of learnable parameters.\n",
        "* We examine several concepts: time steps, dimentionality of the output space, gates, gate functions etc.\n",
        "* We come up with the correct formulation in 2 different ways:\n",
        "  \n",
        "  **LSTM parameter number = 4 × (($x$ + $h$) × $h$ + $h$)**\n",
        "* We check the correctness of the formulation by creating a simple LSTM model\n",
        "\n",
        "From here, you can continue learning about LSTM for example with understanding the outputs of LSTM layer. I have a tutorial for it already on [Youtube](https://youtu.be/B66760rvHA8) and [Medium](https://medium.com/@kmkarakaya/lstm-understanding-output-types-e93d2fb57c77).\n",
        "\n",
        "Enjoy!"
      ]
    },
    {
      "cell_type": "markdown",
      "metadata": {
        "id": "eJxAUetTGzO_"
      },
      "source": [
        "---\n"
      ]
    },
    {
      "cell_type": "markdown",
      "metadata": {
        "id": "XBVMJg68vd0y"
      },
      "source": [
        "---"
      ]
    },
    {
      "cell_type": "markdown",
      "metadata": {
        "id": "9MvY3zE1AXlH"
      },
      "source": [
        "# BONUS: Shapes of Matrices and Vectors:"
      ]
    },
    {
      "cell_type": "code",
      "metadata": {
        "id": "XEfmBLcdAaWX"
      },
      "source": [
        "# define model\n",
        "timesteps=40\n",
        "features=3\n",
        "LSTMoutputDimension = 2\n",
        "\n",
        "input = Input(shape=(timesteps, features))\n",
        "output= LSTM(LSTMoutputDimension)(input)\n",
        "model_LSTM = Model(inputs=input, outputs=output)\n",
        "\n",
        "W = model_LSTM.layers[1].get_weights()[0]\n",
        "U = model_LSTM.layers[1].get_weights()[1]\n",
        "b = model_LSTM.layers[1].get_weights()[2]"
      ],
      "execution_count": 23,
      "outputs": []
    },
    {
      "cell_type": "code",
      "metadata": {
        "id": "IuZm1WCx_uF0",
        "outputId": "0b709635-a319-461a-847a-33c0555a5a4d",
        "colab": {
          "base_uri": "https://localhost:8080/"
        }
      },
      "source": [
        "print(\"Shapes of Matrices and Vecors:\")\n",
        "print(\"Input [batch_size, timesteps, feature] \", input.shape)\n",
        "print(\"Input feature/dimension (x in formulations)\", input.shape[2])\n",
        "print(\"Number of Hidden States/LSTM units (cells)/dimensionality of the output space (h in formulations)\", LSTMoutputDimension)\n",
        "print(\"W\", W.shape)\n",
        "print(\"U\", U.shape)\n",
        "print(\"b\", b.shape)"
      ],
      "execution_count": 24,
      "outputs": [
        {
          "output_type": "stream",
          "name": "stdout",
          "text": [
            "Shapes of Matrices and Vecors:\n",
            "Input [batch_size, timesteps, feature]  (None, 40, 3)\n",
            "Input feature/dimension (x in formulations) 3\n",
            "Number of Hidden States/LSTM units (cells)/dimensionality of the output space (h in formulations) 2\n",
            "W (3, 8)\n",
            "U (2, 8)\n",
            "b (8,)\n"
          ]
        }
      ]
    },
    {
      "cell_type": "markdown",
      "metadata": {
        "id": "daqTFCXJEeGc"
      },
      "source": [
        "**Why 8?**\n",
        "* Remember the functions? Examine Forget gate function below:\n",
        "\n",
        " ![link text](https://github.com/kmkarakaya/ML_tutorials/blob/master/images/LSTM_functions3.png?raw=true)\n",
        "\n",
        "* W matrix multiplies input vector (x) whose dimension in the example is 1x3 to produce results as many as hidden states which is 2 in the example.\n",
        "* Thus, it is expected that W dimension should be **3x2** **but why 3x8?**  \n",
        "* Because **there are 4 gates/functions!** and W is the matrix for ***the whole layer***!\n",
        "* Therefore, W dimension is 3 x (2 x 4) = 3 x 8!\n",
        "* Above fact also explains why U and b has 8 values\n",
        "\n",
        " = 4 * number of hidden states!\n",
        "\n",
        "* We can formulate the dimensions of parameters as:\n",
        "\n",
        " W [ x , 4 * h ]\n",
        "\n",
        " U [ h , 4 * h ]\n",
        "\n",
        " b [  4 * h ]\n",
        "\n",
        " where  \n",
        "    \n",
        "    **x** is the number of dimension/feature of the input\n",
        "\n",
        "    **h** is the number of Hidden States/LSTM units (cells)/dimensionality of the output space\n",
        "\n",
        "\n"
      ]
    }
  ]
}